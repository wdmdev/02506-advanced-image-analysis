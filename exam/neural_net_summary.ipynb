{
 "cells": [
  {
   "cell_type": "markdown",
   "metadata": {},
   "source": [
    "# Building a Neural Net and Getting Architecture Summary"
   ]
  },
  {
   "cell_type": "code",
   "execution_count": 4,
   "metadata": {},
   "outputs": [
    {
     "name": "stdout",
     "output_type": "stream",
     "text": [
      "==========================================================================================\n",
      "Layer (type:depth-idx)                   Output Shape              Param #\n",
      "==========================================================================================\n",
      "├─Conv2d: 1-1                            [-1, 4, 116, 116]         104\n",
      "├─MaxPool2d: 1-2                         [-1, 4, 58, 58]           --\n",
      "├─Conv2d: 1-3                            [-1, 8, 54, 54]           808\n",
      "├─MaxPool2d: 1-4                         [-1, 8, 27, 27]           --\n",
      "==========================================================================================\n",
      "Total params: 912\n",
      "Trainable params: 912\n",
      "Non-trainable params: 0\n",
      "Total mult-adds (M): 3.68\n",
      "==========================================================================================\n",
      "Input size (MB): 0.05\n",
      "Forward/backward pass size (MB): 0.59\n",
      "Params size (MB): 0.00\n",
      "Estimated Total Size (MB): 0.65\n",
      "==========================================================================================\n"
     ]
    },
    {
     "data": {
      "text/plain": [
       "==========================================================================================\n",
       "Layer (type:depth-idx)                   Output Shape              Param #\n",
       "==========================================================================================\n",
       "├─Conv2d: 1-1                            [-1, 4, 116, 116]         104\n",
       "├─MaxPool2d: 1-2                         [-1, 4, 58, 58]           --\n",
       "├─Conv2d: 1-3                            [-1, 8, 54, 54]           808\n",
       "├─MaxPool2d: 1-4                         [-1, 8, 27, 27]           --\n",
       "==========================================================================================\n",
       "Total params: 912\n",
       "Trainable params: 912\n",
       "Non-trainable params: 0\n",
       "Total mult-adds (M): 3.68\n",
       "==========================================================================================\n",
       "Input size (MB): 0.05\n",
       "Forward/backward pass size (MB): 0.59\n",
       "Params size (MB): 0.00\n",
       "Estimated Total Size (MB): 0.65\n",
       "=========================================================================================="
      ]
     },
     "execution_count": 4,
     "metadata": {},
     "output_type": "execute_result"
    }
   ],
   "source": [
    "from torch import nn\n",
    "from torchsummary import summary\n",
    "\n",
    "class Net(nn.Module):\n",
    "    def __init__(self):\n",
    "        super().__init__()\n",
    "        self.conv1 = nn.Conv2d(1, 4, 5)\n",
    "        self.conv2 = nn.Conv2d(4, 8, 5)\n",
    "        self.pool = nn.MaxPool2d(2, 2)\n",
    "        self.flatten = nn.Flatten()\n",
    "        self.fc1 = nn.Linear(200, 10) #Change 200 to what ever fits\n",
    "\n",
    "    def forward(self, x):\n",
    "        x = self.conv1(x)\n",
    "        x = self.pool(x)\n",
    "        # x = self.flatten(x)\n",
    "        # x = self.fc1(x)\n",
    "        x = self.conv2(x)\n",
    "        x= self.pool(x)\n",
    "\n",
    "        return x\n",
    "\n",
    "\n",
    "net = Net()\n",
    "summary(net, (1, 120, 120))"
   ]
  },
  {
   "cell_type": "code",
   "execution_count": null,
   "metadata": {},
   "outputs": [],
   "source": []
  }
 ],
 "metadata": {
  "interpreter": {
   "hash": "c5e6900efb0539e2bdd2ffd01b9115b5b1d9ea02f3a2947c5317c6abf2ba084b"
  },
  "kernelspec": {
   "display_name": "Python 3.9.7 ('adv-img')",
   "language": "python",
   "name": "python3"
  },
  "language_info": {
   "codemirror_mode": {
    "name": "ipython",
    "version": 3
   },
   "file_extension": ".py",
   "mimetype": "text/x-python",
   "name": "python",
   "nbconvert_exporter": "python",
   "pygments_lexer": "ipython3",
   "version": "3.9.7"
  },
  "orig_nbformat": 4
 },
 "nbformat": 4,
 "nbformat_minor": 2
}
