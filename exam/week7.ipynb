{
 "cells": [
  {
   "cell_type": "markdown",
   "metadata": {},
   "source": [
    "# Week 7 Quiz"
   ]
  },
  {
   "cell_type": "code",
   "execution_count": 12,
   "metadata": {},
   "outputs": [],
   "source": [
    "import os\n",
    "import cv2\n",
    "import scipy\n",
    "import skimage\n",
    "import slgbuilder\n",
    "import numpy as np\n",
    "from skimage import io\n",
    "import matplotlib.pyplot as plt"
   ]
  },
  {
   "cell_type": "markdown",
   "metadata": {},
   "source": [
    "Consider an image:"
   ]
  },
  {
   "cell_type": "code",
   "execution_count": 2,
   "metadata": {},
   "outputs": [],
   "source": [
    "I = np.array([\n",
    "    [7, 1, 2, 2, 4, 1],\n",
    "    [6, 6, 5, 4, 5, 1],\n",
    "    [5, 2, 6, 4, 4, 2],\n",
    "    [1, 5, 7, 2, 2, 6],\n",
    "    [2, 4, 3, 6, 7, 7]\n",
    "])"
   ]
  },
  {
   "cell_type": "markdown",
   "metadata": {},
   "source": [
    "Rows = z = f(x), Columns = x"
   ]
  },
  {
   "cell_type": "markdown",
   "metadata": {},
   "source": [
    "## 1)\n",
    "What is the cost of the line given by f(x) = 3?"
   ]
  },
  {
   "cell_type": "code",
   "execution_count": 3,
   "metadata": {},
   "outputs": [
    {
     "data": {
      "text/plain": [
       "23"
      ]
     },
     "execution_count": 3,
     "metadata": {},
     "output_type": "execute_result"
    }
   ],
   "source": [
    "np.sum(I[2])"
   ]
  },
  {
   "cell_type": "markdown",
   "metadata": {},
   "source": [
    "## 2)\n",
    "What is the cost of the min-cost solution constrained by ∆x = 0?"
   ]
  },
  {
   "cell_type": "code",
   "execution_count": 11,
   "metadata": {},
   "outputs": [
    {
     "name": "stdout",
     "output_type": "stream",
     "text": [
      "Minimum cost: 17 for row: 0\n"
     ]
    }
   ],
   "source": [
    "min_row = np.argmin(I.sum(axis=1))\n",
    "min_cost = I[min_row].sum()\n",
    "\n",
    "print(f'Minimum cost: {min_cost} for row: {min_row}')"
   ]
  },
  {
   "cell_type": "markdown",
   "metadata": {},
   "source": [
    "## 3)\n",
    "What is the cost of the min-cost solution constrained by ∆x = 2?"
   ]
  },
  {
   "cell_type": "code",
   "execution_count": 13,
   "metadata": {},
   "outputs": [],
   "source": [
    "delta = 2 \n",
    "\n",
    "layer = slgbuilder.GraphObject(I)\n",
    "helper = slgbuilder.MaxflowBuilder()\n",
    "helper.add_object(layer)\n",
    "helper.add_layered_boundary_cost()\n",
    "helper.add_layered_smoothness(delta=delta, wrap=False)\n",
    "\n",
    "helper.solve()\n",
    "segmentation = helper.what_segments(layer)\n",
    "segmentation_line = segmentation.shape[0] - np.argmax(segmentation[::-1,:], axis=0) - 1"
   ]
  },
  {
   "cell_type": "code",
   "execution_count": 17,
   "metadata": {},
   "outputs": [
    {
     "data": {
      "text/plain": [
       "11"
      ]
     },
     "execution_count": 17,
     "metadata": {},
     "output_type": "execute_result"
    }
   ],
   "source": [
    "min_cost = I[segmentation_line, np.arange(segmentation.shape[1])].sum()\n",
    "min_cost"
   ]
  },
  {
   "cell_type": "code",
   "execution_count": 18,
   "metadata": {},
   "outputs": [
    {
     "data": {
      "image/png": "[encoded data removed]",
      "text/plain": [
       "<Figure size 432x288 with 1 Axes>"
      ]
     },
     "metadata": {
      "needs_background": "light"
     },
     "output_type": "display_data"
    }
   ],
   "source": [
    "layer = slgbuilder.GraphObject(I)\n",
    "helper = slgbuilder.MaxflowBuilder()\n",
    "helper.add_object(layer)\n",
    "helper.add_layered_boundary_cost()\n",
    "helper.add_layered_smoothness(delta=2, wrap=False)\n",
    "helper.solve()\n",
    "segmentation = helper.what_segments(layer)\n",
    "segmentation_line = segmentation.shape[0] - np.argmax(segmentation[::-1,:], axis=0) - 1\n",
    "c = (I[segmentation_line, np.arange(segmentation.shape[1])]).sum()\n",
    "\n",
    "fig, ax = plt.subplots()\n",
    "ax.imshow(I)\n",
    "ax.plot(segmentation_line, 'r')\n",
    "ax.set_title(f'cost={c}')\n",
    "plt.show()"
   ]
  },
  {
   "cell_type": "code",
   "execution_count": null,
   "metadata": {},
   "outputs": [],
   "source": []
  }
 ],
 "metadata": {
  "interpreter": {
   "hash": "85efbad99586510d90dc313248aef6c49ee289f9e88fd2f9e5e83e811600078a"
  },
  "kernelspec": {
   "display_name": "Python 3.9.12 64-bit ('adv-img': conda)",
   "language": "python",
   "name": "python3"
  },
  "language_info": {
   "codemirror_mode": {
    "name": "ipython",
    "version": 3
   },
   "file_extension": ".py",
   "mimetype": "text/x-python",
   "name": "python",
   "nbconvert_exporter": "python",
   "pygments_lexer": "ipython3",
   "version": "3.9.12"
  },
  "orig_nbformat": 4
 },
 "nbformat": 4,
 "nbformat_minor": 2
}
