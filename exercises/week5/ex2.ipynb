{
 "cells": [
  {
   "cell_type": "markdown",
   "metadata": {},
   "source": [
    "# Graph cuts for optimizing MRF"
   ]
  },
  {
   "cell_type": "code",
   "execution_count": 3,
   "metadata": {},
   "outputs": [],
   "source": [
    "import maxflow\n",
    "import numpy as np"
   ]
  },
  {
   "cell_type": "markdown",
   "metadata": {},
   "source": [
    "## Gender labeling"
   ]
  },
  {
   "cell_type": "code",
   "execution_count": 10,
   "metadata": {},
   "outputs": [
    {
     "name": "stdout",
     "output_type": "stream",
     "text": [
      "Maximum flow: 263\n",
      "Person 0 is estimated as M\n",
      "Person 1 is estimated as M\n",
      "Person 2 is estimated as M\n",
      "Person 3 is estimated as F\n",
      "Person 4 is estimated as F\n",
      "Person 5 is estimated as F\n"
     ]
    }
   ],
   "source": [
    "#%%\n",
    "d = np.array([179, 174, 182, 162, 175, 165]) # heights (data)\n",
    "mu = [181, 165] # means of two classes\n",
    "beta = 100 # weight of the prior term\n",
    "w_s = (d-mu[0])**2 # source weight\n",
    "w_t = (d-mu[1])**2 # sink weights\n",
    "N = len(d) # number of graph nodes\n",
    "\n",
    "# Create a graph with integer capacities.\n",
    "g = maxflow.Graph[int]()\n",
    "# Add (non-terminal) nodes and retrieve an index for each node\n",
    "nodes = g.add_nodes(N)\n",
    "# Create edges between nodes\n",
    "for i in range(N-1):\n",
    "    g.add_edge(nodes[i], nodes[i+1], beta, beta)\n",
    "# Set the capacities of the terminal edges.\n",
    "for i in range(N):\n",
    "    g.add_tedge(nodes[i], (d[i]-mu[1])**2, (d[i]-mu[0])**2)\n",
    "# Run the max flow algorithm\n",
    "flow = g.maxflow()\n",
    "print(f'Maximum flow: {flow}')\n",
    "\n",
    "# displaying the results\n",
    "labeling = [g.get_segment(nodes[i]) for i in range(N)]\n",
    "gend = 'MF'\n",
    "\n",
    "for i in range(0,N):\n",
    "    print(f'Person {i} is estimated as {gend[labeling[i]]}') \n"
   ]
  },
  {
   "cell_type": "code",
   "execution_count": null,
   "metadata": {},
   "outputs": [],
   "source": []
  }
 ],
 "metadata": {
  "interpreter": {
   "hash": "c5e6900efb0539e2bdd2ffd01b9115b5b1d9ea02f3a2947c5317c6abf2ba084b"
  },
  "kernelspec": {
   "display_name": "Python 3.9.7 ('adv-img')",
   "language": "python",
   "name": "python3"
  },
  "language_info": {
   "codemirror_mode": {
    "name": "ipython",
    "version": 3
   },
   "file_extension": ".py",
   "mimetype": "text/x-python",
   "name": "python",
   "nbconvert_exporter": "python",
   "pygments_lexer": "ipython3",
   "version": "3.9.7"
  },
  "orig_nbformat": 4
 },
 "nbformat": 4,
 "nbformat_minor": 2
}
