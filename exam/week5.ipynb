{
 "cells": [
  {
   "cell_type": "markdown",
   "metadata": {},
   "source": [
    "# Week 5 Quiz"
   ]
  },
  {
   "cell_type": "code",
   "execution_count": 3,
   "metadata": {},
   "outputs": [],
   "source": [
    "import numpy as np"
   ]
  },
  {
   "cell_type": "code",
   "execution_count": 30,
   "metadata": {},
   "outputs": [],
   "source": [
    "def prior_energy(S, beta):\n",
    "    return beta * ((np.diff(S, axis=0)!=0).sum() + (np.diff(S, axis=1)!=0).sum())   \n",
    "    \n",
    "def likelihood_energy(S, I, mu):\n",
    "    return ((mu[S] - I)**2).sum()"
   ]
  },
  {
   "cell_type": "markdown",
   "metadata": {},
   "source": [
    "We consider the image"
   ]
  },
  {
   "cell_type": "code",
   "execution_count": 4,
   "metadata": {},
   "outputs": [],
   "source": [
    "I = np.array([\n",
    "    [1,2,6,4,10,8],\n",
    "    [4,1,3,5,9,6],\n",
    "    [5,2,3,5,4,7]\n",
    "])"
   ]
  },
  {
   "cell_type": "markdown",
   "metadata": {},
   "source": [
    "which is to be segmented into three segments: 1, 2 and 3. The segments are estimated\n",
    "to have mean intensities µ1 = 2, µ2 = 5 and µ3 = 10. We use an MRF framework as\n",
    "in the lecture note, and we choose to set β = 10."
   ]
  },
  {
   "cell_type": "code",
   "execution_count": 5,
   "metadata": {},
   "outputs": [],
   "source": [
    "mu = np.array([2, 5, 10])\n",
    "beta = 10"
   ]
  },
  {
   "cell_type": "code",
   "execution_count": 18,
   "metadata": {},
   "outputs": [
    {
     "data": {
      "text/plain": [
       "(3, 6, 3)"
      ]
     },
     "execution_count": 18,
     "metadata": {},
     "output_type": "execute_result"
    }
   ],
   "source": [
    "#Likelihood\n",
    "U = np.stack([mu[0] - I, mu[1] - I, mu[2] - I], axis=2)**2\n",
    "U.shape"
   ]
  },
  {
   "cell_type": "code",
   "execution_count": 22,
   "metadata": {},
   "outputs": [
    {
     "data": {
      "text/plain": [
       "array([[0, 0, 1, 1, 2, 2],\n",
       "       [1, 0, 0, 1, 2, 1],\n",
       "       [1, 0, 0, 1, 1, 1]])"
      ]
     },
     "execution_count": 22,
     "metadata": {},
     "output_type": "execute_result"
    }
   ],
   "source": [
    "S0 = np.argmin(U, axis=2)\n",
    "S0"
   ]
  },
  {
   "cell_type": "markdown",
   "metadata": {},
   "source": [
    "## 1)\n",
    "What is the prior energy of the maximum likelihood solution?"
   ]
  },
  {
   "cell_type": "code",
   "execution_count": 23,
   "metadata": {},
   "outputs": [
    {
     "data": {
      "text/plain": [
       "120"
      ]
     },
     "execution_count": 23,
     "metadata": {},
     "output_type": "execute_result"
    }
   ],
   "source": [
    "# Prior\n",
    "prior = beta * ((S0[:-1] != S0[1:]).sum() + (S0[:,:-1] != S0[:,1:]).sum())\n",
    "prior"
   ]
  },
  {
   "cell_type": "markdown",
   "metadata": {},
   "source": [
    "# 2)\n",
    "What is the likelihood energy of the configuration where the leftmost two columns\n",
    "are labeled as belonging to the segment 1, middle two columns are labeled as belonging to the segment 2, and rightmost two colums are labeled as belonging to\n",
    "the segment 3?"
   ]
  },
  {
   "cell_type": "code",
   "execution_count": 24,
   "metadata": {},
   "outputs": [],
   "source": [
    "new_S0 = np.array([[0, 0, 1, 1, 2, 2],\n",
    "                    [0, 0, 1, 1, 2, 2],\n",
    "                    [0, 0, 1, 1, 2, 2]])"
   ]
  },
  {
   "cell_type": "code",
   "execution_count": 25,
   "metadata": {},
   "outputs": [
    {
     "data": {
      "text/plain": [
       "91"
      ]
     },
     "execution_count": 25,
     "metadata": {},
     "output_type": "execute_result"
    }
   ],
   "source": [
    "#Likelihood\n",
    "likelihood = ((mu[new_S0] - I)**2).sum()\n",
    "likelihood"
   ]
  },
  {
   "cell_type": "markdown",
   "metadata": {},
   "source": [
    "# 3)\n",
    "What is the posterior energy of the maximum a posteriory solution? (Write the\n",
    "smallest energy, which you could find.)"
   ]
  },
  {
   "cell_type": "markdown",
   "metadata": {},
   "source": [
    "Testing a posteriory with the new mask"
   ]
  },
  {
   "cell_type": "code",
   "execution_count": 31,
   "metadata": {},
   "outputs": [
    {
     "data": {
      "text/plain": [
       "60"
      ]
     },
     "execution_count": 31,
     "metadata": {},
     "output_type": "execute_result"
    }
   ],
   "source": [
    "# prior\n",
    "new_prior = beta * ((new_S0[:-1] != new_S0[1:]).sum() + (new_S0[:,:-1] != new_S0[:,1:]).sum())\n",
    "new_prior"
   ]
  },
  {
   "cell_type": "code",
   "execution_count": 27,
   "metadata": {},
   "outputs": [
    {
     "data": {
      "text/plain": [
       "151"
      ]
     },
     "execution_count": 27,
     "metadata": {},
     "output_type": "execute_result"
    }
   ],
   "source": [
    "likelihood + new_prior"
   ]
  },
  {
   "cell_type": "markdown",
   "metadata": {},
   "source": [
    "Finding optimal (maximum a posteriory) solution using graph cuts"
   ]
  },
  {
   "cell_type": "code",
   "execution_count": 28,
   "metadata": {},
   "outputs": [],
   "source": [
    "import maxflow.fastmin"
   ]
  },
  {
   "cell_type": "code",
   "execution_count": 33,
   "metadata": {},
   "outputs": [
    {
     "name": "stdout",
     "output_type": "stream",
     "text": [
      "posterior_GC: 111\n"
     ]
    }
   ],
   "source": [
    "S_GC = S0.copy()\n",
    "maxflow.fastmin.aexpansion_grid(U, beta - beta*np.eye(3, 3, dtype=U.dtype), labels = S_GC)\n",
    "posterior_GC  = prior_energy(S_GC, beta) + likelihood_energy(S_GC, I, mu)\n",
    "print(f'posterior_GC: {posterior_GC}')"
   ]
  },
  {
   "cell_type": "code",
   "execution_count": null,
   "metadata": {},
   "outputs": [],
   "source": []
  }
 ],
 "metadata": {
  "interpreter": {
   "hash": "c5e6900efb0539e2bdd2ffd01b9115b5b1d9ea02f3a2947c5317c6abf2ba084b"
  },
  "kernelspec": {
   "display_name": "Python 3.9.7 ('adv-img')",
   "language": "python",
   "name": "python3"
  },
  "language_info": {
   "codemirror_mode": {
    "name": "ipython",
    "version": 3
   },
   "file_extension": ".py",
   "mimetype": "text/x-python",
   "name": "python",
   "nbconvert_exporter": "python",
   "pygments_lexer": "ipython3",
   "version": "3.9.7"
  },
  "orig_nbformat": 4
 },
 "nbformat": 4,
 "nbformat_minor": 2
}
