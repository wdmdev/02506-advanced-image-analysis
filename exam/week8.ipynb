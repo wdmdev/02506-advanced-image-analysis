{
 "cells": [
  {
   "cell_type": "markdown",
   "metadata": {},
   "source": [
    "# Week 8 Quiz"
   ]
  },
  {
   "cell_type": "code",
   "execution_count": 12,
   "metadata": {},
   "outputs": [],
   "source": [
    "import os\n",
    "import cv2\n",
    "import math\n",
    "import scipy\n",
    "import skimage\n",
    "import slgbuilder\n",
    "import numpy as np\n",
    "from skimage import io\n",
    "import matplotlib.pyplot as plt"
   ]
  },
  {
   "cell_type": "markdown",
   "metadata": {},
   "source": [
    "Consider a classification network\n",
    "\n",
    "![](ANN_week8.png)\n",
    "\n",
    "with ReLU activation in the hidden layer and softmax in the last layer. We pass the\n",
    "input value $x_1 = 120$ through the network."
   ]
  },
  {
   "cell_type": "markdown",
   "metadata": {},
   "source": [
    "## 1)\n"
   ]
  },
  {
   "cell_type": "markdown",
   "metadata": {},
   "source": [
    "What is the value of $y_1$, i.e. the predicted probability that $x_1 = 120$ belongs to\n",
    "the class 1?"
   ]
  },
  {
   "cell_type": "code",
   "execution_count": 27,
   "metadata": {},
   "outputs": [
    {
     "data": {
      "text/plain": [
       "array([[  1],\n",
       "       [120]])"
      ]
     },
     "execution_count": 27,
     "metadata": {},
     "output_type": "execute_result"
    }
   ],
   "source": [
    "x = np.array([\n",
    "    [1],\n",
    "    [120]\n",
    "])\n",
    "x"
   ]
  },
  {
   "cell_type": "code",
   "execution_count": 28,
   "metadata": {},
   "outputs": [
    {
     "data": {
      "text/plain": [
       "array([[10.  , -0.01],\n",
       "       [ 0.  ,  0.1 ]])"
      ]
     },
     "execution_count": 28,
     "metadata": {},
     "output_type": "execute_result"
    }
   ],
   "source": [
    "W1 = np.array([\n",
    "    [10, -0.01],\n",
    "    [0, 0.1]\n",
    "])\n",
    "W1"
   ]
  },
  {
   "cell_type": "code",
   "execution_count": 29,
   "metadata": {},
   "outputs": [
    {
     "data": {
      "text/plain": [
       "array([[ 4.  ,  0.05,  0.  ],\n",
       "       [ 0.  , -0.01,  0.2 ]])"
      ]
     },
     "execution_count": 29,
     "metadata": {},
     "output_type": "execute_result"
    }
   ],
   "source": [
    "W2 = np.array([\n",
    "    [4, 0.05, 0],\n",
    "    [0, -0.01, 0.2]\n",
    "])\n",
    "W2"
   ]
  },
  {
   "cell_type": "code",
   "execution_count": 35,
   "metadata": {},
   "outputs": [
    {
     "data": {
      "text/plain": [
       "array([[ 1. ],\n",
       "       [ 8.8],\n",
       "       [12. ]])"
      ]
     },
     "execution_count": 35,
     "metadata": {},
     "output_type": "execute_result"
    }
   ],
   "source": [
    "h = np.maximum(W1@x, 0)\n",
    "h = np.vstack([[1], h])\n",
    "h"
   ]
  },
  {
   "cell_type": "code",
   "execution_count": 36,
   "metadata": {},
   "outputs": [
    {
     "data": {
      "text/plain": [
       "array([[4.44 ],\n",
       "       [2.312]])"
      ]
     },
     "execution_count": 36,
     "metadata": {},
     "output_type": "execute_result"
    }
   ],
   "source": [
    "y_hat = W2@h\n",
    "y_hat"
   ]
  },
  {
   "cell_type": "code",
   "execution_count": 37,
   "metadata": {},
   "outputs": [
    {
     "data": {
      "text/plain": [
       "array([[0.89359499],\n",
       "       [0.10640501]])"
      ]
     },
     "execution_count": 37,
     "metadata": {},
     "output_type": "execute_result"
    }
   ],
   "source": [
    "def softmax(y_hat):\n",
    "    return np.exp(y_hat)/np.sum(np.exp(y_hat))\n",
    "\n",
    "def softmax_math(y_hat):\n",
    "    y1_hat = math.exp(y_hat[0])/(math.exp(y_hat[0]) + math.exp(y_hat[1]))\n",
    "    y2_hat = math.exp(y_hat[1])/(math.exp(y_hat[0]) + math.exp(y_hat[1]))\n",
    "\n",
    "    return np.array([[y1_hat], [y2_hat]])\n",
    "\n",
    "y = softmax(y_hat)\n",
    "y"
   ]
  },
  {
   "cell_type": "markdown",
   "metadata": {},
   "source": [
    "Probability that $x_1 = 120$ belongs to class 1 is approx. 0.13 i.e. $13\\%$"
   ]
  },
  {
   "cell_type": "markdown",
   "metadata": {},
   "source": [
    "## 2)\n",
    "We know that $x_1 = 120$ should belong to the class 2. What is the loss for this input value? We use cross entropy loss function (with the natural logarithm)."
   ]
  },
  {
   "cell_type": "code",
   "execution_count": 53,
   "metadata": {},
   "outputs": [
    {
     "data": {
      "text/plain": [
       "array([0.11250264, 2.24050264])"
      ]
     },
     "execution_count": 53,
     "metadata": {},
     "output_type": "execute_result"
    }
   ],
   "source": [
    "target = np.array([0,1])\n",
    "\n",
    "cross_entropy_loss = -np.sum(target * np.log(y), axis=1)\n",
    "cross_entropy_loss"
   ]
  },
  {
   "cell_type": "code",
   "execution_count": 55,
   "metadata": {},
   "outputs": [
    {
     "name": "stdout",
     "output_type": "stream",
     "text": [
      "x1 = 120 loss for class 2 i.e. y2 is 2.2405026355372013\n"
     ]
    }
   ],
   "source": [
    "print(f'x1 = 120 loss for class 2 i.e. y2 is {cross_entropy_loss[1]}')"
   ]
  },
  {
   "cell_type": "markdown",
   "metadata": {},
   "source": [
    "## 3)\n",
    "We back-propagate the loss for the input $x_1 = 120$. What is the partial derivative\n",
    "$$\n",
    "\\frac{\\partial L}{\\partial w_{22}^{(2)}} = \\delta_2^{(2)}h_2^{(2-1)}\n",
    "$$\n",
    "where in the general form\n",
    "$$\n",
    "\\frac{\\partial L}{\\partial w_{ij}^{(l)}} = \\delta_i^{(l)}h_j^{(l-1)}\n",
    "$$\n",
    "which we will need to update $w^{(2)}_{22}$? The weight $w^{(2)}_{22}$ is drawn as the edge having the value 0.2 before update."
   ]
  },
  {
   "cell_type": "markdown",
   "metadata": {},
   "source": [
    "For the last layer the derivative of $L$ with respect to $z_i^{(l^*)}$ i.e. $\\delta_i^{(l)}$ is \n",
    "$$\n",
    "\\delta_i^{(l^*)} = -t_i + \\frac{1}{\\sum_k \\exp z_k^{(l^*)}} \\exp z_i^{(l^*)} = y_i - t_i\n",
    "$$"
   ]
  },
  {
   "cell_type": "code",
   "execution_count": 56,
   "metadata": {},
   "outputs": [
    {
     "data": {
      "text/plain": [
       "array([-0.89359499])"
      ]
     },
     "execution_count": 56,
     "metadata": {},
     "output_type": "execute_result"
    }
   ],
   "source": [
    "delta_2 = y[1] - target[1]\n",
    "delta_2"
   ]
  },
  {
   "cell_type": "code",
   "execution_count": 57,
   "metadata": {},
   "outputs": [
    {
     "data": {
      "text/plain": [
       "array([-10.7231399])"
      ]
     },
     "execution_count": 57,
     "metadata": {},
     "output_type": "execute_result"
    }
   ],
   "source": [
    "dL = delta_2 * h[2]\n",
    "dL"
   ]
  },
  {
   "cell_type": "markdown",
   "metadata": {},
   "source": [
    "## Solution"
   ]
  },
  {
   "cell_type": "code",
   "execution_count": 58,
   "metadata": {},
   "outputs": [
    {
     "name": "stdout",
     "output_type": "stream",
     "text": [
      "h1: 8.8 and h2: 12.0\n",
      "y1_hat: 4.44 and y2_hat: 2.3120000000000003\n",
      "y1: 0.8935949920025679 and y2: 0.1064050079974321\n",
      "Loss: 2.2405026355372013\n",
      "dLw22: -10.723139904030814\n"
     ]
    }
   ],
   "source": [
    "import math\n",
    "\n",
    "x = 120\n",
    "\n",
    "# hidden layer with ReLu\n",
    "h1 = max(10 - 0.01*x, 0)\n",
    "h2 = max(0.1*x, 0)\n",
    "print(f'h1: {h1} and h2: {h2}')\n",
    "\n",
    "# output layer\n",
    "y1_hat = 4 + 0.05*h1\n",
    "y2_hat = -0.01*h1 + 0.2*h2\n",
    "print(f'y1_hat: {y1_hat} and y2_hat: {y2_hat}')\n",
    "\n",
    "# softmax\n",
    "y1 = math.exp(y1_hat)/(math.exp(y1_hat)+math.exp(y2_hat))\n",
    "y2 = math.exp(y2_hat)/(math.exp(y1_hat)+math.exp(y2_hat))\n",
    "\n",
    "print(f'y1: {y1} and y2: {y2}')\n",
    "\n",
    "# loss\n",
    "L = -math.log(y2) # since we know it belongs to class 2\n",
    "\n",
    "print(f'Loss: {L}')\n",
    "\n",
    "# partial derivative, we know that t2 = 1\n",
    "dLdw22 = h2 * (y2-1)\n",
    "\n",
    "print(f'dLw22: {dLdw22}')"
   ]
  },
  {
   "cell_type": "code",
   "execution_count": null,
   "metadata": {},
   "outputs": [],
   "source": []
  }
 ],
 "metadata": {
  "interpreter": {
   "hash": "85efbad99586510d90dc313248aef6c49ee289f9e88fd2f9e5e83e811600078a"
  },
  "kernelspec": {
   "display_name": "Python 3.9.12 64-bit ('adv-img': conda)",
   "language": "python",
   "name": "python3"
  },
  "language_info": {
   "codemirror_mode": {
    "name": "ipython",
    "version": 3
   },
   "file_extension": ".py",
   "mimetype": "text/x-python",
   "name": "python",
   "nbconvert_exporter": "python",
   "pygments_lexer": "ipython3",
   "version": "3.9.12"
  },
  "orig_nbformat": 4
 },
 "nbformat": 4,
 "nbformat_minor": 2
}
