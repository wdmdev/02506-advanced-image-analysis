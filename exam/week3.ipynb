{
 "cells": [
  {
   "cell_type": "markdown",
   "metadata": {},
   "source": [
    "# Week 3 Quiz"
   ]
  },
  {
   "cell_type": "code",
   "execution_count": 6,
   "metadata": {},
   "outputs": [],
   "source": [
    "import numpy as np"
   ]
  },
  {
   "cell_type": "markdown",
   "metadata": {},
   "source": [
    "## 1)\n",
    "You have an image of the size 256 × 408 pixels and you want to compute dense\n",
    "features consisting of pixel intensities collected from 9 × 9 patches centered\n",
    "around each pixel, where such patch is valid. You want to store the extracted\n",
    "features in a 3D array. What is the total number of elements (a product height ×\n",
    "width × depth) of the array you would choose to store the features?"
   ]
  },
  {
   "cell_type": "code",
   "execution_count": 2,
   "metadata": {},
   "outputs": [
    {
     "data": {
      "text/plain": [
       "8035200"
      ]
     },
     "execution_count": 2,
     "metadata": {},
     "output_type": "execute_result"
    }
   ],
   "source": [
    "#1 Total number of elements (height x width x depth) in dense features\n",
    "(256-8)*(408-8)*(9*9)"
   ]
  },
  {
   "cell_type": "markdown",
   "metadata": {},
   "source": [
    "## 2)\n",
    "You are approaching a 3-label segmentation as explained in the exercise 3.2. You\n",
    "choose to cluster the features extracted from the training image in 1000 clusters.\n",
    "It turns out, that cluster number 5 contains 120 image features. In the training\n",
    "image, the features from cluster 5 are represented with 90, 20, and 10 features in\n",
    "labels 1, 2, and, 3, respectively. What is p5(1) + p5(2)?"
   ]
  },
  {
   "cell_type": "code",
   "execution_count": 3,
   "metadata": {},
   "outputs": [
    {
     "data": {
      "text/plain": [
       "0.9166666666666666"
      ]
     },
     "execution_count": 3,
     "metadata": {},
     "output_type": "execute_result"
    }
   ],
   "source": [
    "#2\n",
    "N = 120\n",
    "p5_1 = 90/N\n",
    "p5_2 = 20/N\n",
    "\n",
    "p5_1 + p5_2"
   ]
  },
  {
   "cell_type": "markdown",
   "metadata": {},
   "source": [
    "## 3)\n",
    "You are segmenting an image into labels 1, 2, and 3. You represent the probability image using an r × c × 3 array. The first three rows, five columns and two\n",
    "layers of the probability image are shown below. Which label is dominant in the\n",
    "segmentation of this 3 × 5 window?"
   ]
  },
  {
   "cell_type": "code",
   "execution_count": 7,
   "metadata": {},
   "outputs": [],
   "source": [
    "#3\n",
    "P1 = np.array([\n",
    "    [0.11, 0.16, 0.21, .26, .31],\n",
    "    [0.09, .14, .19, .24, .29],\n",
    "    [.07, .12, .17, .22, .27]\n",
    "])\n",
    "\n",
    "P2 = np.array([\n",
    "    [0.67, .55, .43, .31, .19],\n",
    "    [.59, .47, .35, .23, .11],\n",
    "    [.51, .39, .27, .15, .03]\n",
    "])"
   ]
  },
  {
   "cell_type": "code",
   "execution_count": 8,
   "metadata": {},
   "outputs": [
    {
     "data": {
      "text/plain": [
       "2.85"
      ]
     },
     "execution_count": 8,
     "metadata": {},
     "output_type": "execute_result"
    }
   ],
   "source": [
    "P1.sum()"
   ]
  },
  {
   "cell_type": "code",
   "execution_count": 9,
   "metadata": {},
   "outputs": [
    {
     "data": {
      "text/plain": [
       "5.250000000000001"
      ]
     },
     "execution_count": 9,
     "metadata": {},
     "output_type": "execute_result"
    }
   ],
   "source": [
    "P2.sum()"
   ]
  },
  {
   "cell_type": "code",
   "execution_count": 15,
   "metadata": {},
   "outputs": [
    {
     "data": {
      "text/plain": [
       "array([[0.22, 0.29, 0.36, 0.43, 0.5 ],\n",
       "       [0.32, 0.39, 0.46, 0.53, 0.6 ],\n",
       "       [0.42, 0.49, 0.56, 0.63, 0.7 ]])"
      ]
     },
     "execution_count": 15,
     "metadata": {},
     "output_type": "execute_result"
    }
   ],
   "source": [
    "P3 = np.ones(P1.shape) - (P1 + P2)\n",
    "P3"
   ]
  },
  {
   "cell_type": "code",
   "execution_count": 16,
   "metadata": {},
   "outputs": [
    {
     "data": {
      "text/plain": [
       "6.8999999999999995"
      ]
     },
     "execution_count": 16,
     "metadata": {},
     "output_type": "execute_result"
    }
   ],
   "source": [
    "P3.sum()"
   ]
  },
  {
   "cell_type": "markdown",
   "metadata": {},
   "source": [
    "Answer: Dominant label is label 3"
   ]
  }
 ],
 "metadata": {
  "interpreter": {
   "hash": "85efbad99586510d90dc313248aef6c49ee289f9e88fd2f9e5e83e811600078a"
  },
  "kernelspec": {
   "display_name": "Python 3.9.12 64-bit ('adv-img': conda)",
   "language": "python",
   "name": "python3"
  },
  "language_info": {
   "codemirror_mode": {
    "name": "ipython",
    "version": 3
   },
   "file_extension": ".py",
   "mimetype": "text/x-python",
   "name": "python",
   "nbconvert_exporter": "python",
   "pygments_lexer": "ipython3",
   "version": "3.9.12"
  },
  "orig_nbformat": 4
 },
 "nbformat": 4,
 "nbformat_minor": 2
}
