{
 "cells": [
  {
   "cell_type": "markdown",
   "metadata": {},
   "source": [
    "# Exam 2022"
   ]
  },
  {
   "cell_type": "code",
   "execution_count": 2,
   "metadata": {},
   "outputs": [],
   "source": [
    "import os\n",
    "import cv2\n",
    "import scipy\n",
    "import skimage\n",
    "import slgbuilder\n",
    "import numpy as np\n",
    "import maxflow.fastmin\n",
    "from skimage import io\n",
    "import matplotlib.pyplot as plt"
   ]
  },
  {
   "cell_type": "markdown",
   "metadata": {},
   "source": [
    "## Question 1"
   ]
  },
  {
   "cell_type": "markdown",
   "metadata": {},
   "source": [
    "Gaussian derivative 2D Gaussian kernels can be used for feature detection in scalespace. Below we show some kernels related to the 2D first order Gaussian derivative\n",
    "with σ = 1. The kernel values are shown in the spatial range ±2σ and the image next\n",
    "to the kernel values is shown in the spatial range ±5σ.\n",
    "Which kernel best represents the 2D first order Gaussian derivative used for scale-space\n",
    "computation?"
   ]
  },
  {
   "cell_type": "code",
   "execution_count": 6,
   "metadata": {},
   "outputs": [
    {
     "data": {
      "text/plain": [
       "array([[ 0.00593803,  0.01330621, -0.        , -0.01330621, -0.00593803],\n",
       "       [ 0.02661242,  0.0596343 , -0.        , -0.0596343 , -0.02661242],\n",
       "       [ 0.04387646,  0.09832033, -0.        , -0.09832033, -0.04387646],\n",
       "       [ 0.02661242,  0.0596343 , -0.        , -0.0596343 , -0.02661242],\n",
       "       [ 0.00593803,  0.01330621, -0.        , -0.01330621, -0.00593803]])"
      ]
     },
     "execution_count": 6,
     "metadata": {},
     "output_type": "execute_result"
    }
   ],
   "source": [
    "def gauss_kernels(sigma, size=4):\n",
    "    s = np.ceil(np.max([sigma*size, size]))\n",
    "    x = np.arange(-s,s+1)\n",
    "    x = x.reshape(x.shape + (1,))\n",
    "    g = np.exp(-x**2/(2*sigma*sigma))\n",
    "    g /= np.sum(g)\n",
    "    dg = -x/(sigma*sigma)*g\n",
    "    ddg = -1/(sigma*sigma)*g -x/(sigma*sigma)*dg\n",
    "    return g, dg, ddg\n",
    "\n",
    "\n",
    "g, dg, ddg = gauss_kernels(sigma=1, size=2)\n",
    "g2d = np.outer(g,dg)\n",
    "g2d"
   ]
  },
  {
   "cell_type": "code",
   "execution_count": 8,
   "metadata": {},
   "outputs": [
    {
     "data": {
      "text/plain": [
       "array([[ 0.01162342,  0.00845599, -0.        , -0.00845599, -0.01162342],\n",
       "       [ 0.01691198,  0.01230339, -0.        , -0.01230339, -0.01691198],\n",
       "       [ 0.01916378,  0.01394157, -0.        , -0.01394157, -0.01916378],\n",
       "       [ 0.01691198,  0.01230339, -0.        , -0.01230339, -0.01691198],\n",
       "       [ 0.01162342,  0.00845599, -0.        , -0.00845599, -0.01162342]])"
      ]
     },
     "execution_count": 8,
     "metadata": {},
     "output_type": "execute_result"
    }
   ],
   "source": [
    "g, dg, ddg = gauss_kernels(sigma=2, size=1)\n",
    "g2d = np.outer(g,dg)\n",
    "g2d"
   ]
  },
  {
   "cell_type": "markdown",
   "metadata": {},
   "source": [
    "Answer: b"
   ]
  },
  {
   "cell_type": "markdown",
   "metadata": {},
   "source": [
    "## Question 2 "
   ]
  },
  {
   "cell_type": "markdown",
   "metadata": {},
   "source": [
    "Scale-space blob detection The image blobs.png contains a bright and a dark\n",
    "blob. The task is to detect the bright blob using Laplacian scale-space. We have precomputed a linear Laplacian scale-space and the result is available in the data folder\n",
    "as the 3D image blobs_Laplace.tif with [scale, row, column] in the\n",
    "three dimensions. You can load the blobs_Laplace.tif file using the function\n",
    "skimage.io.imread in Python or tiffreadVolume in Matlab. The Laplacian\n",
    "scale-space is computed using a kernel with scale t = 16 (σ = 4), and the first layer of\n",
    "the image is at scale t = 16, the second layer at t = 32, etc.\n",
    "At which scale and position (coordinates are 0-indexed) is the bright blob detected?"
   ]
  },
  {
   "cell_type": "code",
   "execution_count": 274,
   "metadata": {},
   "outputs": [],
   "source": [
    "def getGaussDerivative(t):\n",
    "    '''\n",
    "    Computes kernels of Gaussian and its derivatives.\n",
    "    Parameters\n",
    "    ----------\n",
    "    t : float\n",
    "        Vairance - t.\n",
    "\n",
    "    Returns\n",
    "    -------\n",
    "    g : numpy array\n",
    "        Gaussian.\n",
    "    dg : numpy array\n",
    "        First order derivative of Gaussian.\n",
    "    ddg : numpy array\n",
    "        Second order derivative of Gaussian\n",
    "    dddg : numpy array\n",
    "        Third order derivative of Gaussian.\n",
    "\n",
    "    '''\n",
    "\n",
    "    kSize = 5\n",
    "    s = np.sqrt(t)\n",
    "    x = np.arange(int(-np.ceil(s*kSize)), int(np.ceil(s*kSize))+1)\n",
    "    x = np.reshape(x,(-1,1))\n",
    "    g = np.exp(-x**2/(2*t))\n",
    "    g = g/np.sum(g)\n",
    "    dg = -x/t*g\n",
    "    ddg = -g/t - x/t*dg\n",
    "    dddg = -2*dg/t - x/t*ddg\n",
    "    return g, dg, ddg, dddg\n",
    "\n",
    "im = skimage.io.imread('EXAM_MATERIAL/blobs.png').astype(float)\n",
    "\n",
    "t = 16 \n",
    "g, dg, ddg, dddg = getGaussDerivative(t)\n",
    "\n",
    "r,c = im.shape\n",
    "n = 400\n",
    "L_blob_vol = np.zeros((r,c,n))\n",
    "tStep = np.zeros(n)\n",
    "\n",
    "Lg = im\n",
    "for i in range(0,n):\n",
    "    tStep[i] = t*i\n",
    "    L_blob_vol[:,:,i] = tStep[i]*(cv2.filter2D(cv2.filter2D(Lg, -1, g), -1, ddg.T) + \n",
    "        cv2.filter2D(cv2.filter2D(Lg, -1, ddg), -1, g.T))\n",
    "    Lg = cv2.filter2D(cv2.filter2D(Lg, -1, g), -1, g.T)\n",
    "\n",
    "\n",
    "#%% find maxima in scale-space\n",
    "thres = 40.0\n",
    "coord_pos = skimage.feature.peak_local_max(L_blob_vol, threshold_abs = thres)\n",
    "coord_neg = skimage.feature.peak_local_max(-L_blob_vol, threshold_abs = thres)\n",
    "coord = np.r_[coord_pos,coord_neg]\n",
    "\n",
    "# Show circles\n",
    "theta = np.arange(0, 2*np.pi, step=np.pi/100)\n",
    "theta = np.append(theta, 0)\n",
    "circ = np.array((np.cos(theta),np.sin(theta)))\n",
    "n = coord.shape[0]\n",
    "m = circ.shape[1]\n",
    "\n",
    "\n",
    "#%%\n",
    "scale = tStep[coord[:,2]]"
   ]
  },
  {
   "cell_type": "code",
   "execution_count": 275,
   "metadata": {},
   "outputs": [
    {
     "data": {
      "text/plain": [
       "array([160., 208.])"
      ]
     },
     "execution_count": 275,
     "metadata": {},
     "output_type": "execute_result"
    }
   ],
   "source": [
    "scale"
   ]
  },
  {
   "cell_type": "code",
   "execution_count": null,
   "metadata": {},
   "outputs": [],
   "source": []
  },
  {
   "cell_type": "code",
   "execution_count": 280,
   "metadata": {},
   "outputs": [
    {
     "data": {
      "text/plain": [
       "array([208.])"
      ]
     },
     "execution_count": 280,
     "metadata": {},
     "output_type": "execute_result"
    }
   ],
   "source": [
    "tStep[coord_neg[:,2]]"
   ]
  },
  {
   "cell_type": "code",
   "execution_count": 279,
   "metadata": {},
   "outputs": [
    {
     "data": {
      "text/plain": [
       "array([[ 80, 122,  13]])"
      ]
     },
     "execution_count": 279,
     "metadata": {},
     "output_type": "execute_result"
    }
   ],
   "source": [
    "coord_neg"
   ]
  },
  {
   "cell_type": "code",
   "execution_count": 273,
   "metadata": {},
   "outputs": [
    {
     "data": {
      "text/plain": [
       "<matplotlib.image.AxesImage at 0x7f7f210192e0>"
      ]
     },
     "execution_count": 273,
     "metadata": {},
     "output_type": "execute_result"
    },
    {
     "data": {
      "image/png": "[encoded data removed]",
      "text/plain": [
       "<Figure size 432x288 with 1 Axes>"
      ]
     },
     "metadata": {
      "needs_background": "light"
     },
     "output_type": "display_data"
    }
   ],
   "source": [
    "I = io.imread('EXAM_MATERIAL/blobs_Laplace.tif')\n",
    "plt.imshow(I[2])"
   ]
  },
  {
   "cell_type": "code",
   "execution_count": 283,
   "metadata": {},
   "outputs": [
    {
     "data": {
      "text/plain": [
       "13.0"
      ]
     },
     "execution_count": 283,
     "metadata": {},
     "output_type": "execute_result"
    }
   ],
   "source": [
    "208/16"
   ]
  },
  {
   "cell_type": "code",
   "execution_count": 285,
   "metadata": {},
   "outputs": [
    {
     "data": {
      "text/plain": [
       "<matplotlib.image.AxesImage at 0x7f7f39f1c040>"
      ]
     },
     "execution_count": 285,
     "metadata": {},
     "output_type": "execute_result"
    },
    {
     "data": {
      "image/png": "[encoded data removed]",
      "text/plain": [
       "<Figure size 432x288 with 1 Axes>"
      ]
     },
     "metadata": {
      "needs_background": "light"
     },
     "output_type": "display_data"
    }
   ],
   "source": [
    "plt.imshow(I[12])"
   ]
  },
  {
   "cell_type": "markdown",
   "metadata": {},
   "source": [
    "Answer: (e) Scale: 192, position (row, col): (80, 122)"
   ]
  },
  {
   "cell_type": "markdown",
   "metadata": {},
   "source": [
    "## Question 3"
   ]
  },
  {
   "cell_type": "code",
   "execution_count": 10,
   "metadata": {},
   "outputs": [
    {
     "name": "stdout",
     "output_type": "stream",
     "text": [
      "l1: 0.08404802744425385, l2: 0.8524871355060034, l3: 0.0634648370497427\n",
      "total: 1.0\n"
     ]
    }
   ],
   "source": [
    "C16 = 4+350+1+45+147+36\n",
    "\n",
    "C16_l1 = 4+45\n",
    "C16_l2 = 350+147\n",
    "C16_l3 = 1+36\n",
    "\n",
    "p16_l1 = C16_l1/C16\n",
    "p16_l2 = C16_l2/C16\n",
    "p16_l3 = C16_l3/C16\n",
    "\n",
    "print(f'l1: {p16_l1}, l2: {p16_l2}, l3: {p16_l3}')\n",
    "print(f'total: {p16_l1 + p16_l2 + p16_l3}')"
   ]
  },
  {
   "cell_type": "markdown",
   "metadata": {},
   "source": [
    "Answer: (c) [0.08, 0.85, 0.06]"
   ]
  },
  {
   "cell_type": "markdown",
   "metadata": {},
   "source": [
    "## Question 4"
   ]
  },
  {
   "cell_type": "markdown",
   "metadata": {},
   "source": [
    "Segmentation with image patches We wish to segment an image using image patches\n",
    "as described in the lecture notes, Section 3.1.1. We have a gray-scale image of size\n",
    "512 × 512, we use patches of size 7 × 7, and we segment to four labels.\n",
    "What is the size of the resulting probability image?"
   ]
  },
  {
   "cell_type": "markdown",
   "metadata": {},
   "source": [
    "Answer: (c) 506 × 506 × 4"
   ]
  },
  {
   "cell_type": "markdown",
   "metadata": {},
   "source": [
    "## Question 5"
   ]
  },
  {
   "cell_type": "markdown",
   "metadata": {},
   "source": [
    "Matching SIFT features SIFT features have been computed for the two images\n",
    "kidney_1.png and kidney_2.png shown below. The descriptors are stored in\n",
    "the files SIFT_1_descriptors.txt and SIFT_2_descriptors.txt, available in the data folder. The spatial positions where the SIFT features are detected\n",
    "are in the files SIFT_1_coordinates.txt and SIFT_2_coordinates.txt,\n",
    "which are also available. In all file names the numbers 1 and 2 refer to the image\n",
    "number. We consider the first feature from Image 1, i.e. the first row of the file\n",
    "SIFT_1_descriptors.txt."
   ]
  },
  {
   "cell_type": "code",
   "execution_count": 244,
   "metadata": {},
   "outputs": [],
   "source": [
    "coords1 = np.loadtxt('EXAM_MATERIAL/SIFT_1_coordinates.txt')\n",
    "des1 = np.loadtxt('EXAM_MATERIAL/SIFT_1_descriptors.txt')\n",
    "coords2 = np.loadtxt('EXAM_MATERIAL/SIFT_2_coordinates.txt')\n",
    "des2 = np.loadtxt('EXAM_MATERIAL/SIFT_2_descriptors.txt')"
   ]
  },
  {
   "cell_type": "code",
   "execution_count": 257,
   "metadata": {},
   "outputs": [
    {
     "data": {
      "text/plain": [
       "array([ 92.002, 290.622])"
      ]
     },
     "execution_count": 257,
     "metadata": {},
     "output_type": "execute_result"
    }
   ],
   "source": [
    "p1 = coords1[0]\n",
    "p1"
   ]
  },
  {
   "cell_type": "code",
   "execution_count": 260,
   "metadata": {},
   "outputs": [
    {
     "data": {
      "text/plain": [
       "0"
      ]
     },
     "execution_count": 260,
     "metadata": {},
     "output_type": "execute_result"
    }
   ],
   "source": [
    "closest_match = np.argmin(np.linalg.norm(coords2-p1), axis=0)\n",
    "closest_match"
   ]
  },
  {
   "cell_type": "code",
   "execution_count": 269,
   "metadata": {},
   "outputs": [
    {
     "data": {
      "text/plain": [
       "30.0"
      ]
     },
     "execution_count": 269,
     "metadata": {},
     "output_type": "execute_result"
    }
   ],
   "source": [
    "np.sqrt(np.sum(des1[0,:]-des2[0,:])**2)"
   ]
  },
  {
   "cell_type": "markdown",
   "metadata": {},
   "source": [
    "## Question 6"
   ]
  },
  {
   "cell_type": "markdown",
   "metadata": {},
   "source": [
    "Feature-based image registration By matching the SIFT features, as shown in the\n",
    "figure, we have obtained correspondence between feature points. Based on this we\n",
    "want to register the images, as described in the lecture note. We have computed the\n",
    "following covariance matrix\n",
    "C =\n",
    "[\n",
    "191955 −937044\n",
    "552183 379358 ]\n",
    ",\n",
    "that we use for computing the transformation"
   ]
  },
  {
   "cell_type": "code",
   "execution_count": 18,
   "metadata": {},
   "outputs": [
    {
     "data": {
      "text/plain": [
       "array([[ 191955, -937044],\n",
       "       [ 552183,  379358]])"
      ]
     },
     "execution_count": 18,
     "metadata": {},
     "output_type": "execute_result"
    }
   ],
   "source": [
    "C = np.array([\n",
    "    [191955, -937044],\n",
    "    [552183, 379358]\n",
    "])\n",
    "C"
   ]
  },
  {
   "cell_type": "code",
   "execution_count": 19,
   "metadata": {},
   "outputs": [],
   "source": [
    "U, S, VT = np.linalg.svd(C)"
   ]
  },
  {
   "cell_type": "code",
   "execution_count": 20,
   "metadata": {},
   "outputs": [],
   "source": [
    "R_hat = U@VT"
   ]
  },
  {
   "cell_type": "code",
   "execution_count": 21,
   "metadata": {},
   "outputs": [],
   "source": [
    "D = np.array([\n",
    "    [1, 0],\n",
    "    [0, np.linalg.det(R_hat)]\n",
    "])\n",
    "R = R_hat @ D"
   ]
  },
  {
   "cell_type": "code",
   "execution_count": 22,
   "metadata": {},
   "outputs": [
    {
     "data": {
      "text/plain": [
       "69.01165964850452"
      ]
     },
     "execution_count": 22,
     "metadata": {},
     "output_type": "execute_result"
    }
   ],
   "source": [
    "np.arccos(R[0,0])/np.pi*180"
   ]
  },
  {
   "cell_type": "markdown",
   "metadata": {},
   "source": [
    "Answer: (f) 69.0"
   ]
  },
  {
   "cell_type": "markdown",
   "metadata": {},
   "source": [
    "## Question 7"
   ]
  },
  {
   "cell_type": "markdown",
   "metadata": {},
   "source": [
    "Gaussian convolution Which statement is correct?"
   ]
  },
  {
   "cell_type": "markdown",
   "metadata": {},
   "source": [
    "Answer: (b) To ensure high precision when iteratively applying Gaussian kernels for a Gaussian scale-space, the kernels must have a large spatial support, e.g. ±4σ to ±5σ.\n",
    "\n",
    "But not quite sure"
   ]
  },
  {
   "cell_type": "markdown",
   "metadata": {},
   "source": [
    "## Question 8"
   ]
  },
  {
   "cell_type": "markdown",
   "metadata": {},
   "source": [
    "MRF prior energy Consider an MRF segmentation with three labels: 1, 2, and 3.\n",
    "As in the lecture note, we use first-order neighborhood. We define 2-clique potentials\n",
    "as\n",
    "V2(fi\n",
    ", fi\n",
    "0 ) = 10|fi − fi\n",
    "0 |\n",
    "which is different than what we used in the lecture note. Consider the configuration\n",
    "configuration.txt given in the illustration."
   ]
  },
  {
   "cell_type": "code",
   "execution_count": 23,
   "metadata": {},
   "outputs": [
    {
     "data": {
      "text/plain": [
       "array([[1., 1., 1., 1., 2., 2., 2.],\n",
       "       [1., 2., 2., 1., 2., 3., 2.],\n",
       "       [2., 3., 2., 1., 2., 3., 2.],\n",
       "       [2., 2., 2., 1., 1., 3., 2.],\n",
       "       [1., 2., 1., 1., 1., 1., 1.]])"
      ]
     },
     "execution_count": 23,
     "metadata": {},
     "output_type": "execute_result"
    }
   ],
   "source": [
    "I = np.loadtxt('EXAM_MATERIAL/configuration.txt')\n",
    "I"
   ]
  },
  {
   "cell_type": "code",
   "execution_count": 27,
   "metadata": {},
   "outputs": [
    {
     "data": {
      "text/plain": [
       "300.0"
      ]
     },
     "execution_count": 27,
     "metadata": {},
     "output_type": "execute_result"
    }
   ],
   "source": [
    "V2 = (10*np.abs(I[1:,:]-I[:-1,:])).sum() + (10*np.abs(I[:,1:] - I[:,:-1])).sum()\n",
    "V2"
   ]
  },
  {
   "cell_type": "markdown",
   "metadata": {},
   "source": [
    "Answer: (j) 300"
   ]
  },
  {
   "cell_type": "markdown",
   "metadata": {},
   "source": [
    "## Question 9"
   ]
  },
  {
   "cell_type": "markdown",
   "metadata": {},
   "source": [
    "Likelihood energy Consider segmentation of the image I, available in the data folder\n",
    "as blended.png. Image values should be normalized to be in the range [0, 1] by\n",
    "dividing the pixel values by 255 after loading."
   ]
  },
  {
   "cell_type": "code",
   "execution_count": 30,
   "metadata": {},
   "outputs": [
    {
     "data": {
      "text/plain": [
       "<matplotlib.image.AxesImage at 0x7f7f48f655b0>"
      ]
     },
     "execution_count": 30,
     "metadata": {},
     "output_type": "execute_result"
    },
    {
     "data": {
      "image/png": "[encoded data removed]",
      "text/plain": [
       "<Figure size 432x288 with 1 Axes>"
      ]
     },
     "metadata": {
      "needs_background": "light"
     },
     "output_type": "display_data"
    }
   ],
   "source": [
    "I = io.imread('EXAM_MATERIAL/blended.png').astype(float)\n",
    "I = I/255\n",
    "plt.imshow(I)"
   ]
  },
  {
   "cell_type": "code",
   "execution_count": 33,
   "metadata": {},
   "outputs": [
    {
     "data": {
      "text/plain": [
       "(100, 100)"
      ]
     },
     "execution_count": 33,
     "metadata": {},
     "output_type": "execute_result"
    }
   ],
   "source": [
    "I.shape"
   ]
  },
  {
   "cell_type": "code",
   "execution_count": 31,
   "metadata": {},
   "outputs": [],
   "source": [
    "def window_std(I):\n",
    "    window = np.ones(shape=(5, 5))/25\n",
    "    K_I2 = scipy.ndimage.convolve(I**2, window, mode='reflect')\n",
    "    KI_2 = scipy.ndimage.convolve(I, window, mode='reflect')**2\n",
    "    return np.sqrt(K_I2 - KI_2)"
   ]
  },
  {
   "cell_type": "code",
   "execution_count": 32,
   "metadata": {},
   "outputs": [
    {
     "data": {
      "text/plain": [
       "(100, 100)"
      ]
     },
     "execution_count": 32,
     "metadata": {},
     "output_type": "execute_result"
    }
   ],
   "source": [
    "S = window_std(I)\n",
    "S.shape"
   ]
  },
  {
   "cell_type": "code",
   "execution_count": 34,
   "metadata": {},
   "outputs": [
    {
     "data": {
      "text/plain": [
       "(2, 100, 100)"
      ]
     },
     "execution_count": 34,
     "metadata": {},
     "output_type": "execute_result"
    }
   ],
   "source": [
    "sigma_textured = 0.05\n",
    "sigma_smooth = 0.01\n",
    "\n",
    "V1 = np.stack([(sigma_textured - S)**2, (sigma_smooth - S)**2])\n",
    "V1.shape"
   ]
  },
  {
   "cell_type": "code",
   "execution_count": 39,
   "metadata": {},
   "outputs": [
    {
     "data": {
      "text/plain": [
       "<matplotlib.image.AxesImage at 0x7f7f39373160>"
      ]
     },
     "execution_count": 39,
     "metadata": {},
     "output_type": "execute_result"
    },
    {
     "data": {
      "image/png": "[encoded data removed]",
      "text/plain": [
       "<Figure size 432x288 with 1 Axes>"
      ]
     },
     "metadata": {
      "needs_background": "light"
     },
     "output_type": "display_data"
    }
   ],
   "source": [
    "S0 = np.argmin(V1, axis=0)\n",
    "plt.imshow(S0)"
   ]
  },
  {
   "cell_type": "code",
   "execution_count": 40,
   "metadata": {},
   "outputs": [
    {
     "data": {
      "text/plain": [
       "14.953605251125804"
      ]
     },
     "execution_count": 40,
     "metadata": {},
     "output_type": "execute_result"
    }
   ],
   "source": [
    "likelihood = np.sum(V1)\n",
    "likelihood"
   ]
  },
  {
   "cell_type": "markdown",
   "metadata": {},
   "source": [
    "Answer: (i) 14.95"
   ]
  },
  {
   "cell_type": "markdown",
   "metadata": {},
   "source": [
    "## Question 10"
   ]
  },
  {
   "cell_type": "code",
   "execution_count": 41,
   "metadata": {},
   "outputs": [
    {
     "data": {
      "text/plain": [
       "1"
      ]
     },
     "execution_count": 41,
     "metadata": {},
     "output_type": "execute_result"
    }
   ],
   "source": [
    "m_in = 0 \n",
    "m_out = 1\n",
    "\n",
    "f_ext = (m_in - m_out) * (2*0 - m_in - m_out)\n",
    "f_ext"
   ]
  },
  {
   "cell_type": "markdown",
   "metadata": {},
   "source": [
    "Answer: (e) 1"
   ]
  },
  {
   "cell_type": "markdown",
   "metadata": {},
   "source": [
    "## Question 11"
   ]
  },
  {
   "cell_type": "markdown",
   "metadata": {},
   "source": [
    "Curve smoothing Consider a noisy curve in the illustration, available in the data\n",
    "folder as hand_noisy.txt."
   ]
  },
  {
   "cell_type": "code",
   "execution_count": 45,
   "metadata": {},
   "outputs": [
    {
     "data": {
      "text/plain": [
       "[<matplotlib.lines.Line2D at 0x7f7f394b4310>]"
      ]
     },
     "execution_count": 45,
     "metadata": {},
     "output_type": "execute_result"
    },
    {
     "data": {
      "image/png": "[encoded data removed]",
      "text/plain": [
       "<Figure size 432x288 with 1 Axes>"
      ]
     },
     "metadata": {
      "needs_background": "light"
     },
     "output_type": "display_data"
    }
   ],
   "source": [
    "I = np.loadtxt('EXAM_MATERIAL/hand_noisy.txt')\n",
    "N = I.shape[0]\n",
    "closed_ind = np.r_[np.arange(N),0] # for easy plotting a closed snake\n",
    "\n",
    "fig, ax = plt.subplots()\n",
    "ax.plot(I[closed_ind,0],I[closed_ind,1],'b')"
   ]
  },
  {
   "cell_type": "code",
   "execution_count": 43,
   "metadata": {},
   "outputs": [],
   "source": [
    "def regularization_matrix(N, alpha, beta):\n",
    "    \"\"\"An NxN matrix for imposing elasticity and rigidity to snakes.\n",
    "    Arguments: alpha is weigth for second derivative (elasticity),\n",
    "    beta is weigth for (-)fourth derivative (rigidity).\"\"\"\n",
    "    column = np.zeros(N)\n",
    "    column[[-2,-1,0,1,2]] = alpha*np.array([0,1,-2,1,0]) + beta*np.array([-1,4,-6,4,-1])\n",
    "    A = scipy.linalg.toeplitz(column)\n",
    "    return(scipy.linalg.inv(np.eye(N)-A))\n",
    "\n",
    "\n",
    "alpha = 100\n",
    "beta = 0\n",
    "\n",
    "smoothed1_I = np.matmul(regularization_matrix(N,alpha,beta),I)\n",
    "\n",
    "alpha = 0\n",
    "beta = 100\n",
    "smoothed2_I = np.matmul(regularization_matrix(N,alpha,beta),I)"
   ]
  },
  {
   "cell_type": "code",
   "execution_count": 47,
   "metadata": {},
   "outputs": [
    {
     "data": {
      "text/plain": [
       "[<matplotlib.lines.Line2D at 0x7f7f5a355eb0>]"
      ]
     },
     "execution_count": 47,
     "metadata": {},
     "output_type": "execute_result"
    },
    {
     "data": {
      "image/png": "[encoded data removed]",
      "text/plain": [
       "<Figure size 432x288 with 1 Axes>"
      ]
     },
     "metadata": {
      "needs_background": "light"
     },
     "output_type": "display_data"
    }
   ],
   "source": [
    "N = smoothed1_I.shape[0]\n",
    "closed_ind = np.r_[np.arange(N),0] # for easy plotting a closed snake\n",
    "\n",
    "fig, ax = plt.subplots()\n",
    "ax.plot(smoothed1_I[closed_ind,0],smoothed1_I[closed_ind,1],'b')"
   ]
  },
  {
   "cell_type": "code",
   "execution_count": 48,
   "metadata": {},
   "outputs": [
    {
     "data": {
      "text/plain": [
       "[<matplotlib.lines.Line2D at 0x7f7f395e4430>]"
      ]
     },
     "execution_count": 48,
     "metadata": {},
     "output_type": "execute_result"
    },
    {
     "data": {
      "image/png": "[encoded data removed]",
      "text/plain": [
       "<Figure size 432x288 with 1 Axes>"
      ]
     },
     "metadata": {
      "needs_background": "light"
     },
     "output_type": "display_data"
    }
   ],
   "source": [
    "N = smoothed2_I.shape[0]\n",
    "closed_ind = np.r_[np.arange(N),0] # for easy plotting a closed snake\n",
    "\n",
    "fig, ax = plt.subplots()\n",
    "ax.plot(smoothed2_I[closed_ind,0],smoothed1_I[closed_ind,1],'b')"
   ]
  },
  {
   "cell_type": "code",
   "execution_count": 49,
   "metadata": {},
   "outputs": [],
   "source": [
    "def curve_length(X):\n",
    "    d = X-np.roll(X, shift=1, axis=0)\n",
    "    d = (d**2).sum(axis=1)\n",
    "    d = (np.sqrt(d)).sum()\n",
    "    return(d)"
   ]
  },
  {
   "cell_type": "code",
   "execution_count": 50,
   "metadata": {},
   "outputs": [
    {
     "data": {
      "text/plain": [
       "41.0716952120271"
      ]
     },
     "execution_count": 50,
     "metadata": {},
     "output_type": "execute_result"
    }
   ],
   "source": [
    "L_smooth1 = curve_length(smoothed1_I)\n",
    "L_smooth1"
   ]
  },
  {
   "cell_type": "code",
   "execution_count": 51,
   "metadata": {},
   "outputs": [
    {
     "data": {
      "text/plain": [
       "79.51555179114004"
      ]
     },
     "execution_count": 51,
     "metadata": {},
     "output_type": "execute_result"
    }
   ],
   "source": [
    "L_smooth2 = curve_length(smoothed2_I)\n",
    "L_smooth2"
   ]
  },
  {
   "cell_type": "code",
   "execution_count": 53,
   "metadata": {},
   "outputs": [
    {
     "data": {
      "text/plain": [
       "-38.44385657911294"
      ]
     },
     "execution_count": 53,
     "metadata": {},
     "output_type": "execute_result"
    }
   ],
   "source": [
    "L_smooth1-L_smooth2"
   ]
  },
  {
   "cell_type": "markdown",
   "metadata": {},
   "source": [
    "Answer: (a) −38.4"
   ]
  },
  {
   "cell_type": "markdown",
   "metadata": {},
   "source": [
    "## Question 12"
   ]
  },
  {
   "cell_type": "markdown",
   "metadata": {},
   "source": [
    "What is the cost associated with a solution yielding surfaces s1 and s2?"
   ]
  },
  {
   "cell_type": "code",
   "execution_count": 57,
   "metadata": {},
   "outputs": [
    {
     "data": {
      "text/plain": [
       "array([[62., 58., 58., 67., 62., 68., 62., 58., 66., 58.],\n",
       "       [63., 25., 56., 66., 21., 21., 32., 21., 39., 53.],\n",
       "       [24., 64., 39., 32., 54., 52., 50., 52., 66., 30.],\n",
       "       [53., 57., 68., 50., 67., 59., 67., 55., 69., 68.],\n",
       "       [53., 54., 54., 58., 69., 63., 87., 67., 68., 67.],\n",
       "       [64., 93., 65., 82., 92., 86., 58., 88., 85., 82.],\n",
       "       [80., 52., 91., 51., 67., 64., 59., 66., 65., 59.],\n",
       "       [61., 67., 69., 60., 56., 61., 69., 52., 62., 60.]])"
      ]
     },
     "execution_count": 57,
     "metadata": {},
     "output_type": "execute_result"
    }
   ],
   "source": [
    "I = np.loadtxt('EXAM_MATERIAL/layers.txt')\n",
    "I"
   ]
  },
  {
   "cell_type": "code",
   "execution_count": 60,
   "metadata": {},
   "outputs": [],
   "source": [
    "S1 = [2, 1, 2, 2, 1, 1, 1, 1, 1, 2]\n",
    "S2 = [6, 5, 6, 5, 5, 5, 4, 5, 5, 5]\n",
    "\n",
    "cost = (I[S1, np.arange(len(S1))]).sum()\n",
    "cost += (I[S2, np.arange(len(S1))]).sum()"
   ]
  },
  {
   "cell_type": "code",
   "execution_count": 61,
   "metadata": {},
   "outputs": [
    {
     "data": {
      "image/png": "[encoded data removed]",
      "text/plain": [
       "<Figure size 432x288 with 1 Axes>"
      ]
     },
     "metadata": {
      "needs_background": "light"
     },
     "output_type": "display_data"
    }
   ],
   "source": [
    "fig, ax = plt.subplots()\n",
    "ax.imshow(I)\n",
    "ax.plot(S1, 'r')\n",
    "ax.plot(S2, 'r')\n",
    "ax.set_title(f'cost={cost}')\n",
    "plt.show()"
   ]
  },
  {
   "cell_type": "markdown",
   "metadata": {},
   "source": [
    "Answer: (e) 1150"
   ]
  },
  {
   "cell_type": "markdown",
   "metadata": {},
   "source": [
    "## Question 13"
   ]
  },
  {
   "cell_type": "code",
   "execution_count": 62,
   "metadata": {},
   "outputs": [
    {
     "data": {
      "text/plain": [
       "array([[40., 43., 14., 30., 90., 12., 80., 70., 83., 95.],\n",
       "       [43., 25., 56., 66., 21., 21., 32., 21., 39., 53.],\n",
       "       [26., 13., 68., 50., 67., 59., 67., 55., 69., 68.],\n",
       "       [78., 11., 65., 52., 32., 46., 58., 38., 45., 22.],\n",
       "       [21., 24., 91., 51., 67., 64., 59., 66., 65., 59.],\n",
       "       [90., 13., 69., 60., 56., 61., 69., 52., 62., 60.]])"
      ]
     },
     "execution_count": 62,
     "metadata": {},
     "output_type": "execute_result"
    }
   ],
   "source": [
    "I = np.loadtxt('EXAM_MATERIAL/cost.txt')\n",
    "I"
   ]
  },
  {
   "cell_type": "code",
   "execution_count": 65,
   "metadata": {},
   "outputs": [
    {
     "data": {
      "text/plain": [
       "1"
      ]
     },
     "execution_count": 65,
     "metadata": {},
     "output_type": "execute_result"
    }
   ],
   "source": [
    "S0_row = np.argmin(I.sum(axis=1))\n",
    "S0_row"
   ]
  },
  {
   "cell_type": "code",
   "execution_count": 68,
   "metadata": {},
   "outputs": [
    {
     "data": {
      "text/plain": [
       "[1, 1, 1, 1, 1, 1, 1, 1, 1, 1]"
      ]
     },
     "execution_count": 68,
     "metadata": {},
     "output_type": "execute_result"
    }
   ],
   "source": [
    "S0 = [1]*I.shape[1]\n",
    "S0"
   ]
  },
  {
   "cell_type": "code",
   "execution_count": 87,
   "metadata": {},
   "outputs": [
    {
     "data": {
      "image/png": "[encoded data removed]",
      "text/plain": [
       "<Figure size 432x288 with 1 Axes>"
      ]
     },
     "metadata": {
      "needs_background": "light"
     },
     "output_type": "display_data"
    }
   ],
   "source": [
    "delta = 0\n",
    "layer = slgbuilder.GraphObject(I)\n",
    "helper = slgbuilder.MaxflowBuilder()\n",
    "helper.add_object(layer)\n",
    "helper.add_layered_boundary_cost()\n",
    "helper.add_layered_smoothness(delta=delta, wrap=False)\n",
    "helper.solve()\n",
    "segmentation0 = helper.what_segments(layer)\n",
    "segmentation_line0 = segmentation0.shape[0] - np.argmax(segmentation0[::-1,:], axis=0) - 1\n",
    "c = (I[segmentation_line0, np.arange(segmentation0.shape[1])]).sum()\n",
    "\n",
    "fig, ax = plt.subplots()\n",
    "ax.imshow(I)\n",
    "ax.plot(segmentation_line0, 'r')\n",
    "ax.set_title(f'cost={c}')\n",
    "plt.show()"
   ]
  },
  {
   "cell_type": "code",
   "execution_count": 88,
   "metadata": {},
   "outputs": [
    {
     "data": {
      "image/png": "[encoded data removed]",
      "text/plain": [
       "<Figure size 432x288 with 1 Axes>"
      ]
     },
     "metadata": {
      "needs_background": "light"
     },
     "output_type": "display_data"
    }
   ],
   "source": [
    "delta = 5\n",
    "layer = slgbuilder.GraphObject(I)\n",
    "helper = slgbuilder.MaxflowBuilder()\n",
    "helper.add_object(layer)\n",
    "helper.add_layered_boundary_cost()\n",
    "helper.add_layered_smoothness(delta=delta, wrap=False)\n",
    "helper.solve()\n",
    "segmentation = helper.what_segments(layer)\n",
    "segmentation_line = segmentation.shape[0] - np.argmax(segmentation[::-1,:], axis=0) - 1\n",
    "c = (I[segmentation_line, np.arange(segmentation.shape[1])]).sum()\n",
    "\n",
    "fig, ax = plt.subplots()\n",
    "ax.imshow(I)\n",
    "ax.plot(segmentation_line, 'r')\n",
    "ax.set_title(f'cost={c}')\n",
    "plt.show()"
   ]
  },
  {
   "cell_type": "code",
   "execution_count": 99,
   "metadata": {},
   "outputs": [
    {
     "data": {
      "text/plain": [
       "1.0"
      ]
     },
     "execution_count": 99,
     "metadata": {},
     "output_type": "execute_result"
    }
   ],
   "source": [
    "np.mean(np.abs(segmentation_line0-segmentation_line))"
   ]
  },
  {
   "cell_type": "markdown",
   "metadata": {},
   "source": [
    "Answer: (d) 1"
   ]
  },
  {
   "cell_type": "markdown",
   "metadata": {},
   "source": [
    "## Question 14"
   ]
  },
  {
   "cell_type": "code",
   "execution_count": 185,
   "metadata": {},
   "outputs": [],
   "source": [
    "data = np.loadtxt('EXAM_MATERIAL/in_t_out.txt')\n",
    "P = data[:, :3]\n",
    "T = data[:,3]\n",
    "Y_hat = data[:,4:]"
   ]
  },
  {
   "cell_type": "code",
   "execution_count": 186,
   "metadata": {},
   "outputs": [
    {
     "data": {
      "text/plain": [
       "array([[ 0.2,  0.5,  0.1],\n",
       "       [-0.8, -0.1,  0.1],\n",
       "       [ 0.5,  0.4, -0.3],\n",
       "       [-0.5,  0.7,  0.1],\n",
       "       [ 0.3, -0.3,  0.2],\n",
       "       [ 0.2,  0.1, -0.6]])"
      ]
     },
     "execution_count": 186,
     "metadata": {},
     "output_type": "execute_result"
    }
   ],
   "source": [
    "P"
   ]
  },
  {
   "cell_type": "code",
   "execution_count": 187,
   "metadata": {},
   "outputs": [
    {
     "data": {
      "text/plain": [
       "array([0., 1., 0., 1., 0., 0.])"
      ]
     },
     "execution_count": 187,
     "metadata": {},
     "output_type": "execute_result"
    }
   ],
   "source": [
    "# T = np.vstack(T)\n",
    "T"
   ]
  },
  {
   "cell_type": "code",
   "execution_count": 203,
   "metadata": {},
   "outputs": [
    {
     "data": {
      "text/plain": [
       "array([[1, 0],\n",
       "       [0, 1],\n",
       "       [1, 0],\n",
       "       [0, 1],\n",
       "       [1, 0],\n",
       "       [1, 0]])"
      ]
     },
     "execution_count": 203,
     "metadata": {},
     "output_type": "execute_result"
    }
   ],
   "source": [
    "target = np.array([\n",
    "    [1, 0],\n",
    "    [0, 1],\n",
    "    [1, 0],\n",
    "    [0, 1],\n",
    "    [1, 0],\n",
    "    [1, 0]\n",
    "])\n",
    "target"
   ]
  },
  {
   "cell_type": "code",
   "execution_count": 204,
   "metadata": {},
   "outputs": [
    {
     "data": {
      "text/plain": [
       "array([[-0.097,  0.537],\n",
       "       [ 0.185,  0.261],\n",
       "       [-0.021,  0.532],\n",
       "       [ 0.215,  0.244],\n",
       "       [ 0.191,  0.132],\n",
       "       [ 0.221,  0.549]])"
      ]
     },
     "execution_count": 204,
     "metadata": {},
     "output_type": "execute_result"
    }
   ],
   "source": [
    "Y_hat"
   ]
  },
  {
   "cell_type": "code",
   "execution_count": 205,
   "metadata": {},
   "outputs": [
    {
     "data": {
      "text/plain": [
       "array([[0.05799807, 0.10933424],\n",
       "       [0.0768926 , 0.08296424],\n",
       "       [0.06257774, 0.10878894],\n",
       "       [0.07923433, 0.08156577],\n",
       "       [0.07735534, 0.07292341],\n",
       "       [0.07971116, 0.11065416]])"
      ]
     },
     "execution_count": 205,
     "metadata": {},
     "output_type": "execute_result"
    }
   ],
   "source": [
    "def softmax(y_hat):\n",
    "    return np.exp(y_hat)/np.sum(np.exp(y_hat))\n",
    "\n",
    "Y_pred = softmax(Y_hat)\n",
    "Y_pred"
   ]
  },
  {
   "cell_type": "code",
   "execution_count": 226,
   "metadata": {},
   "outputs": [
    {
     "data": {
      "text/plain": [
       "15.703073735755506"
      ]
     },
     "execution_count": 226,
     "metadata": {},
     "output_type": "execute_result"
    }
   ],
   "source": [
    "import math\n",
    "-(math.log(Y_pred[0,0]) + math.log(Y_pred[1,1]) + math.log(Y_pred[2,0]) + math.log(Y_pred[3,1]) + math.log(Y_pred[4, 0]) + math.log(Y_pred[5,0]))"
   ]
  },
  {
   "cell_type": "code",
   "execution_count": 222,
   "metadata": {},
   "outputs": [
    {
     "data": {
      "text/plain": [
       "15.703073735755506"
      ]
     },
     "execution_count": 222,
     "metadata": {},
     "output_type": "execute_result"
    }
   ],
   "source": [
    "-np.sum(target*np.log(Y_pred))"
   ]
  },
  {
   "cell_type": "code",
   "execution_count": 223,
   "metadata": {},
   "outputs": [
    {
     "data": {
      "text/plain": [
       "array([0.45530868, 1.23594485])"
      ]
     },
     "execution_count": 223,
     "metadata": {},
     "output_type": "execute_result"
    }
   ],
   "source": [
    "scipy.stats.entropy(target, Y_pred)"
   ]
  },
  {
   "cell_type": "markdown",
   "metadata": {},
   "source": [
    "## Question 15"
   ]
  },
  {
   "cell_type": "code",
   "execution_count": 227,
   "metadata": {},
   "outputs": [
    {
     "data": {
      "text/plain": [
       "array([[-0.678,  1.441,  2.133,  1.105, -0.621],\n",
       "       [ 0.4  ,  3.415, -2.082, -0.933, -0.45 ],\n",
       "       [-0.064, -1.101, -1.553,  4.059,  0.007]])"
      ]
     },
     "execution_count": 227,
     "metadata": {},
     "output_type": "execute_result"
    }
   ],
   "source": [
    "W1 = np.loadtxt('EXAM_MATERIAL/W1.txt')\n",
    "W1"
   ]
  },
  {
   "cell_type": "code",
   "execution_count": 228,
   "metadata": {},
   "outputs": [
    {
     "data": {
      "text/plain": [
       "array([[ 1.231,  0.331,  0.914,  0.714,  0.355],\n",
       "       [ 0.077, -0.211, -0.336, -0.298,  0.411],\n",
       "       [ 2.251,  1.095, -1.58 ,  0.477, -2.633],\n",
       "       [-1.175, -0.791,  1.862,  2.101,  1.93 ],\n",
       "       [-0.036,  2.624, -0.261, -4.076,  0.952],\n",
       "       [ 0.14 , -0.3  , -0.274,  0.269,  0.215]])"
      ]
     },
     "execution_count": 228,
     "metadata": {},
     "output_type": "execute_result"
    }
   ],
   "source": [
    "W2 = np.loadtxt('EXAM_MATERIAL/W2.txt')\n",
    "W2"
   ]
  },
  {
   "cell_type": "code",
   "execution_count": 229,
   "metadata": {},
   "outputs": [
    {
     "data": {
      "text/plain": [
       "array([[-0.181,  0.317, -0.78 ,  0.157],\n",
       "       [-1.594,  1.964, -1.925,  1.581],\n",
       "       [-2.509, -1.448,  0.449,  1.491],\n",
       "       [ 1.366, -0.751,  0.245, -1.751],\n",
       "       [ 2.241,  2.331, -2.812, -3.126],\n",
       "       [ 1.207, -2.198,  2.098, -1.411]])"
      ]
     },
     "execution_count": 229,
     "metadata": {},
     "output_type": "execute_result"
    }
   ],
   "source": [
    "W3 = np.loadtxt('EXAM_MATERIAL/W3.txt')\n",
    "W3"
   ]
  },
  {
   "cell_type": "markdown",
   "metadata": {},
   "source": [
    "## Question 16"
   ]
  },
  {
   "cell_type": "code",
   "execution_count": null,
   "metadata": {},
   "outputs": [],
   "source": [
    "x = 0.5\n",
    "z3 = "
   ]
  },
  {
   "cell_type": "code",
   "execution_count": null,
   "metadata": {},
   "outputs": [],
   "source": [
    "import math\n",
    "\n",
    "x = 0.5\n",
    "\n",
    "# hidden layer with ReLu\n",
    "h1 = max(10 - 0.01*x, 0)\n",
    "h2 = max(0.1*x, 0)\n",
    "print(f'h1: {h1} and h2: {h2}')\n",
    "\n",
    "# output layer\n",
    "y1_hat = 4 + 0.05*h1\n",
    "y2_hat = -0.01*h1 + 0.2*h2\n",
    "print(f'y1_hat: {y1_hat} and y2_hat: {y2_hat}')\n",
    "\n",
    "# softmax\n",
    "y1 = math.exp(y1_hat)/(math.exp(y1_hat)+math.exp(y2_hat))\n",
    "y2 = math.exp(y2_hat)/(math.exp(y1_hat)+math.exp(y2_hat))\n",
    "\n",
    "print(f'y1: {y1} and y2: {y2}')\n",
    "\n",
    "# loss\n",
    "L = -math.log(y2) # since we know it belongs to class 2\n",
    "\n",
    "print(f'Loss: {L}')\n",
    "\n",
    "# partial derivative, we know that t2 = 1\n",
    "dLdw22 = h2 * (y2-1)\n",
    "\n",
    "print(f'dLw22: {dLdw22}')"
   ]
  },
  {
   "cell_type": "markdown",
   "metadata": {},
   "source": [
    "## Question 17"
   ]
  },
  {
   "cell_type": "markdown",
   "metadata": {},
   "source": [
    "Answer:\n",
    "\n",
    "(b) The SGD algorithm computes the gradients of the network parameters based on\n",
    "the input and the target training data. Then it iteratively updates the parameters\n",
    "by small steps in the negative gradient direction. However, not all training data\n",
    "is used in each iteration, but only a random subset of the data. Therefore, the\n",
    "algorithm is termed stochastic."
   ]
  },
  {
   "cell_type": "markdown",
   "metadata": {},
   "source": [
    "## Question 18"
   ]
  },
  {
   "cell_type": "code",
   "execution_count": null,
   "metadata": {},
   "outputs": [],
   "source": []
  },
  {
   "cell_type": "markdown",
   "metadata": {},
   "source": [
    "## Question 19"
   ]
  },
  {
   "cell_type": "markdown",
   "metadata": {},
   "source": [
    "Answer: (h) 2352"
   ]
  },
  {
   "cell_type": "markdown",
   "metadata": {},
   "source": [
    "## Question 20"
   ]
  },
  {
   "cell_type": "markdown",
   "metadata": {},
   "source": [
    "(a) Data augmentation is widely used in deep learning for image analysis, and is\n",
    "used to obtain higher precision on test data. It is however important to consider\n",
    "your deep learning problem and avoid unsuitable augmentation. An example is\n",
    "flipping or rotating images of digits so they change meaning."
   ]
  },
  {
   "cell_type": "markdown",
   "metadata": {},
   "source": []
  }
 ],
 "metadata": {
  "interpreter": {
   "hash": "c5e6900efb0539e2bdd2ffd01b9115b5b1d9ea02f3a2947c5317c6abf2ba084b"
  },
  "kernelspec": {
   "display_name": "Python 3.9.7 ('adv-img')",
   "language": "python",
   "name": "python3"
  },
  "language_info": {
   "codemirror_mode": {
    "name": "ipython",
    "version": 3
   },
   "file_extension": ".py",
   "mimetype": "text/x-python",
   "name": "python",
   "nbconvert_exporter": "python",
   "pygments_lexer": "ipython3",
   "version": "3.9.7"
  },
  "orig_nbformat": 4
 },
 "nbformat": 4,
 "nbformat_minor": 2
}
